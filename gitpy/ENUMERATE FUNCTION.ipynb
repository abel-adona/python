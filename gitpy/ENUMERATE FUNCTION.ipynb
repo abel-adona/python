{
 "cells": [
  {
   "cell_type": "code",
   "execution_count": 5,
   "id": "35f6eda4",
   "metadata": {},
   "outputs": [
    {
     "name": "stdout",
     "output_type": "stream",
     "text": [
      "5 a\n",
      "6 b\n",
      "7 e\n",
      "8 l\n"
     ]
    }
   ],
   "source": [
    "pattern='abel'\n",
    "for pos,p in enumerate(pattern,5):\n",
    "    print(pos,p)"
   ]
  },
  {
   "cell_type": "code",
   "execution_count": 7,
   "id": "e7edcc55",
   "metadata": {},
   "outputs": [
    {
     "name": "stdout",
     "output_type": "stream",
     "text": [
      "{7: 'a', 8: 'b', 9: 'e', 10: 'l'}\n"
     ]
    }
   ],
   "source": [
    "print(dict(enumerate(pattern,7)))"
   ]
  },
  {
   "cell_type": "code",
   "execution_count": 9,
   "id": "e1d38445",
   "metadata": {},
   "outputs": [
    {
     "name": "stdout",
     "output_type": "stream",
     "text": [
      "[(5, 'a'), (6, 'b'), (7, 'e'), (8, 'l')]\n",
      "<class 'list'>\n"
     ]
    }
   ],
   "source": [
    "x=(list(enumerate(pattern,5)))\n",
    "print(x)\n",
    "print(type(x))\n"
   ]
  },
  {
   "cell_type": "code",
   "execution_count": 12,
   "id": "d1ac8bef",
   "metadata": {},
   "outputs": [
    {
     "name": "stdout",
     "output_type": "stream",
     "text": [
      "a\\nb\n"
     ]
    }
   ],
   "source": [
    "print(r'a\\nb')"
   ]
  },
  {
   "cell_type": "code",
   "execution_count": 16,
   "id": "f24588a0",
   "metadata": {},
   "outputs": [
    {
     "name": "stdout",
     "output_type": "stream",
     "text": [
      "<re.Match object; span=(4, 5), match='1'>\n"
     ]
    }
   ],
   "source": [
    "import re\n",
    "exp=r'10*'\n",
    "print(re.search(exp,'abel160'))"
   ]
  },
  {
   "cell_type": "code",
   "execution_count": null,
   "id": "0f5f0353",
   "metadata": {},
   "outputs": [],
   "source": []
  }
 ],
 "metadata": {
  "kernelspec": {
   "display_name": "Python 3 (ipykernel)",
   "language": "python",
   "name": "python3"
  },
  "language_info": {
   "codemirror_mode": {
    "name": "ipython",
    "version": 3
   },
   "file_extension": ".py",
   "mimetype": "text/x-python",
   "name": "python",
   "nbconvert_exporter": "python",
   "pygments_lexer": "ipython3",
   "version": "3.9.13"
  }
 },
 "nbformat": 4,
 "nbformat_minor": 5
}
